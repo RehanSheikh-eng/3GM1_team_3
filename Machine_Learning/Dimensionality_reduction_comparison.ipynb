{
 "cells": [
  {
   "cell_type": "code",
   "execution_count": null,
   "id": "68d59449",
   "metadata": {},
   "outputs": [],
   "source": [
    "import numpy as np\n",
    "import pandas as pd\n",
    "from keras import Input, Model, layers\n",
    "import matplotlib.pyplot as plt\n",
    "from sklearn.decomposition import PCA\n",
    "import math\n",
    "from scipy import stats\n",
    "from tensorflow import keras\n",
    "from keras import Input, Model, layers\n",
    "from scipy.linalg import eigh, cholesky\n",
    "from scipy.stats import norm\n",
    "from sklearn.preprocessing import MinMaxScaler"
   ]
  },
  {
   "cell_type": "code",
   "execution_count": null,
   "id": "a1d8ec60",
   "metadata": {},
   "outputs": [],
   "source": [
    "dataset = pd.read_csv(\"clean_data.csv\")\n",
    "X = dataset.to_numpy()\n",
    "X = X[:,0:3]"
   ]
  },
  {
   "attachments": {},
   "cell_type": "markdown",
   "id": "5d9dec3a",
   "metadata": {},
   "source": [
    "# Dataset Generation"
   ]
  },
  {
   "attachments": {},
   "cell_type": "markdown",
   "id": "4235d230",
   "metadata": {},
   "source": [
    "Correlated Gaussian noise"
   ]
  },
  {
   "cell_type": "code",
   "execution_count": null,
   "id": "2008b332",
   "metadata": {},
   "outputs": [],
   "source": [
    "method = 'cholesky'\n",
    "\n",
    "num_samples = 1000\n",
    "\n",
    "# Covariance matrix\n",
    "r = np.array([\n",
    "        [1000000, 20000, 500],\n",
    "        [20000,    2500, 20],\n",
    "        [500,       20,    1]\n",
    "    ])\n",
    "\n",
    "# Mean vector\n",
    "m = np.array([\n",
    "    [5000], # Distance travelled in metres/day\n",
    "    [100], # Time spent on wheelchair in minutes/day\n",
    "    [2.5] # Average distance from home in km/day\n",
    "])\n",
    "\n",
    "# Generate samples from three independent normally distributed random variables (with mean 0 and std. dev. 1)\n",
    "x = norm.rvs(size=(3, num_samples))\n",
    "\n",
    "# Compute the Cholesky decomposition\n",
    "c = cholesky(r, lower=True)\n",
    "\n",
    "# Convert the data to correlated random variables. \n",
    "y = np.dot(c, x) + m\n",
    "y = np.absolute(y) # to avoid negative values"
   ]
  },
  {
   "cell_type": "code",
   "execution_count": null,
   "id": "57315c09",
   "metadata": {},
   "outputs": [],
   "source": [
    "plt.scatter(y[1,:],y[0,:], s=10, c='r')\n",
    "plt.xlabel(\"Duration on wheelchair (minutes/day)\")\n",
    "plt.ylabel(\"Distance travelled on wheelchair (metres/day)\")"
   ]
  },
  {
   "cell_type": "code",
   "execution_count": null,
   "id": "9a16ffb1",
   "metadata": {},
   "outputs": [],
   "source": [
    "dataset = y.transpose()"
   ]
  },
  {
   "cell_type": "code",
   "execution_count": null,
   "id": "c20438a4",
   "metadata": {},
   "outputs": [],
   "source": [
    "pd.DataFrame(dataset).to_csv(\"Correlated_simulated_data.csv\")"
   ]
  },
  {
   "cell_type": "code",
   "execution_count": null,
   "id": "c57b7aca",
   "metadata": {},
   "outputs": [],
   "source": [
    "dataset = pd.read_csv(\"Correlated_simulated_data.csv\")\n",
    "X_corr = dataset.to_numpy()\n",
    "X_corr = X_corr[:, 1:4]\n",
    "scaler = MinMaxScaler()\n",
    "scaler.fit(X_corr)\n",
    "X_corr = scaler.transform(X_corr)"
   ]
  },
  {
   "attachments": {},
   "cell_type": "markdown",
   "id": "c54c9b89",
   "metadata": {},
   "source": [
    "# PCA"
   ]
  },
  {
   "cell_type": "code",
   "execution_count": null,
   "id": "7b72aecc",
   "metadata": {},
   "outputs": [],
   "source": [
    "pca = PCA(n_components=1)\n",
    "pca.fit(X_corr)\n",
    "\n",
    "Y = pca.transform(X_corr)\n",
    "\n",
    "def sigmoid(x):\n",
    "  return 1 / (1 + np.exp(-x))\n",
    "\n",
    "Y = sigmoid(Y)*100"
   ]
  },
  {
   "cell_type": "code",
   "execution_count": null,
   "id": "94b7b818",
   "metadata": {},
   "outputs": [],
   "source": [
    "print(Y)"
   ]
  },
  {
   "cell_type": "code",
   "execution_count": null,
   "id": "e0200933",
   "metadata": {},
   "outputs": [],
   "source": [
    "stats.describe(Y)"
   ]
  },
  {
   "cell_type": "code",
   "execution_count": null,
   "id": "ea354aeb",
   "metadata": {},
   "outputs": [],
   "source": [
    "plt.scatter(Y, np.zeros(Y.shape[0]), s=20)\n",
    "plt.xlim(0, 100)\n",
    "plt.show"
   ]
  },
  {
   "attachments": {},
   "cell_type": "markdown",
   "id": "78f84562",
   "metadata": {},
   "source": [
    "# Autoencoder"
   ]
  },
  {
   "cell_type": "code",
   "execution_count": null,
   "id": "3077f054",
   "metadata": {},
   "outputs": [],
   "source": [
    "input_dim = 3\n",
    "latent_dim = 1\n",
    "\n",
    "input_layer = Input(shape=(input_dim,))\n",
    "encoded = layers.Dense(2, activation='relu')(input_layer)\n",
    "encoded = layers.Dense(latent_dim, activation='sigmoid')(encoded)\n",
    "\n",
    "decoded = layers.Dense(2, activation='relu')(encoded)\n",
    "decoded = layers.Dense(input_dim, activation='sigmoid')(decoded)\n",
    "\n",
    "autoencoder = Model(input_layer, decoded)\n",
    "\n",
    "autoencoder.compile(optimizer='adam', loss='binary_crossentropy')\n",
    "\n",
    "autoencoder.fit(X_corr, X_corr,\n",
    "                epochs=500,\n",
    "                batch_size=None,\n",
    "                shuffle=True,\n",
    "                )\n",
    "\n",
    "encoder = Model(input_layer, encoded)"
   ]
  },
  {
   "cell_type": "code",
   "execution_count": null,
   "id": "12a9b93f",
   "metadata": {},
   "outputs": [],
   "source": [
    "encoder.save(r\"C:\\Users\\ahmed\\Desktop\\Year 3\\Projects\\GM1\\Code\\3GM1_team_3\\Machine_Learning\")"
   ]
  },
  {
   "cell_type": "code",
   "execution_count": null,
   "id": "6dfcbd8d",
   "metadata": {},
   "outputs": [],
   "source": [
    "encoder = keras.models.load_model(r'C:\\users\\ahmed\\Desktop\\Year 3\\Projects\\GM1\\Code\\3GM1_team_3\\Machine_Learning')"
   ]
  },
  {
   "cell_type": "code",
   "execution_count": null,
   "id": "d06f855c",
   "metadata": {},
   "outputs": [],
   "source": [
    "Z = encoder.predict(X_corr)*100"
   ]
  },
  {
   "cell_type": "code",
   "execution_count": null,
   "id": "bf6a65c1",
   "metadata": {},
   "outputs": [],
   "source": [
    "print(Z)"
   ]
  },
  {
   "cell_type": "code",
   "execution_count": null,
   "id": "b07cd3ea",
   "metadata": {},
   "outputs": [],
   "source": [
    "stats.describe(Z)"
   ]
  },
  {
   "cell_type": "code",
   "execution_count": null,
   "id": "4146224c",
   "metadata": {},
   "outputs": [],
   "source": [
    "plt.scatter(Z, np.zeros(Y.shape[0]), s=20)\n",
    "plt.xlim(0, 100)\n",
    "plt.show"
   ]
  },
  {
   "attachments": {},
   "cell_type": "markdown",
   "id": "8ae76683",
   "metadata": {},
   "source": [
    "# Comparison"
   ]
  },
  {
   "cell_type": "code",
   "execution_count": null,
   "id": "59505e2a",
   "metadata": {},
   "outputs": [],
   "source": [
    "plt.scatter(Y,Z)"
   ]
  },
  {
   "cell_type": "code",
   "execution_count": null,
   "id": "20c835d5",
   "metadata": {},
   "outputs": [],
   "source": [
    "# Plotting the wellness scores against distance travelled (normalised)\n",
    "\n",
    "i = 0\n",
    "\n",
    "plt.scatter(X_corr[:,i],Y, label = \"PCA\", alpha=0.5, s=10)\n",
    "plt.scatter(X_corr[:,i],Z, label = \"Autoencoder\", alpha=0.5, s=10)\n",
    "plt.legend()\n",
    "plt.xlabel(\"Normalised distance travelled\")\n",
    "plt.ylabel(\"Holistic Wellness Score\")\n",
    "plt.show"
   ]
  },
  {
   "cell_type": "code",
   "execution_count": null,
   "id": "5b97c2a2",
   "metadata": {},
   "outputs": [],
   "source": [
    "# Plotting the wellness scores against duration (normalised)\n",
    "\n",
    "i = 1\n",
    "\n",
    "plt.scatter(X_corr[:,i],Y, label = \"PCA\", alpha=0.5, s=10)\n",
    "plt.scatter(X_corr[:,i],Z, label = \"Autoencoder\", alpha=0.5, s=10)\n",
    "plt.legend()\n",
    "plt.xlabel(\"Normalised duration on wheelchair\")\n",
    "plt.ylabel(\"Holistic Wellness Score\")\n",
    "plt.show"
   ]
  },
  {
   "cell_type": "code",
   "execution_count": null,
   "id": "74ce6d4e",
   "metadata": {},
   "outputs": [],
   "source": [
    "# Plotting the wellness scores against distance from home (normalised)\n",
    "\n",
    "i = 2\n",
    "\n",
    "plt.scatter(X_corr[:,i],Y, label = \"PCA\", alpha=0.5, s=10)\n",
    "plt.scatter(X_corr[:,i],Z, label = \"Autoencoder\", alpha=0.5, s=10)\n",
    "plt.legend()\n",
    "plt.xlabel(\"Normalised average distance from home\")\n",
    "plt.ylabel(\"Holistic Wellness Score\")\n",
    "plt.show"
   ]
  },
  {
   "attachments": {},
   "cell_type": "markdown",
   "id": "36ef185a",
   "metadata": {},
   "source": [
    "Autoencoder appears to be returning an \"anti-wellness\" score, which can be easily corrected"
   ]
  },
  {
   "cell_type": "code",
   "execution_count": null,
   "id": "0b468391",
   "metadata": {},
   "outputs": [],
   "source": [
    "Z_corrected = 100 - Z"
   ]
  },
  {
   "cell_type": "code",
   "execution_count": null,
   "id": "4e2c7edb",
   "metadata": {},
   "outputs": [],
   "source": [
    "stats.describe(Z_corrected)"
   ]
  },
  {
   "cell_type": "code",
   "execution_count": null,
   "id": "29db2854",
   "metadata": {},
   "outputs": [],
   "source": [
    "plt.scatter(Z_corrected, np.zeros(Y.shape[0]), s=20)\n",
    "plt.xlim(0, 100)\n",
    "plt.show"
   ]
  },
  {
   "attachments": {},
   "cell_type": "markdown",
   "id": "a0e633da",
   "metadata": {},
   "source": [
    "Final comparison"
   ]
  },
  {
   "cell_type": "code",
   "execution_count": null,
   "id": "7f182788",
   "metadata": {},
   "outputs": [],
   "source": [
    "# Plotting the wellness scores against distance travelled (normalised)\n",
    "\n",
    "i = 0\n",
    "\n",
    "plt.scatter(X_corr[:,i],Y, label = \"PCA\", alpha=0.5, s=10)\n",
    "plt.scatter(X_corr[:,i],Z_corrected, label = \"Autoencoder\", alpha=0.5, s=10)\n",
    "plt.legend()\n",
    "plt.xlabel(\"Normalised distance travelled\")\n",
    "plt.ylabel(\"Holistic Wellness Score\")\n",
    "plt.show"
   ]
  },
  {
   "cell_type": "code",
   "execution_count": null,
   "id": "a5df4a00",
   "metadata": {},
   "outputs": [],
   "source": [
    "# Plotting the wellness scores against duration (normalised)\n",
    "\n",
    "i = 1\n",
    "\n",
    "plt.scatter(X_corr[:,i],Y, label = \"PCA\", alpha=0.5, s=10)\n",
    "plt.scatter(X_corr[:,i],Z_corrected, label = \"Autoencoder\", alpha=0.5, s=10)\n",
    "plt.legend()\n",
    "plt.xlabel(\"Normalised duration on wheelchair\")\n",
    "plt.ylabel(\"Holistic Wellness Score\")\n",
    "plt.show"
   ]
  },
  {
   "cell_type": "code",
   "execution_count": null,
   "id": "b63fafe3",
   "metadata": {},
   "outputs": [],
   "source": [
    "# Plotting the wellness scores against distance from home (normalised)\n",
    "\n",
    "i = 2\n",
    "\n",
    "plt.scatter(X_corr[:,i],Y, label = \"PCA\", alpha=0.5, s=10)\n",
    "plt.scatter(X_corr[:,i],Z_corrected, label = \"Autoencoder\", alpha=0.5, s=10)\n",
    "plt.legend()\n",
    "plt.xlabel(\"Normalised average distance from home\")\n",
    "plt.ylabel(\"Holistic Wellness Score\")\n",
    "plt.show"
   ]
  },
  {
   "cell_type": "code",
   "execution_count": null,
   "id": "f97d95dd",
   "metadata": {},
   "outputs": [],
   "source": [
    "from mpl_toolkits.mplot3d import Axes3D\n",
    "import matplotlib.pyplot as plt\n",
    "\n",
    "fig = plt.figure(figsize=(10, 7))\n",
    "ax = fig.add_subplot(111, projection='3d')\n",
    "\n",
    "# Scatter plot\n",
    "p = ax.scatter(X_corr[:, 0], X_corr[:, 1], X_corr[:, 2], c=encoded_values)\n",
    "\n",
    "# Adding color bar\n",
    "fig.colorbar(p)\n",
    "\n",
    "ax.set_xlabel('Feature 1')\n",
    "ax.set_ylabel('Feature 2')\n",
    "ax.set_zlabel('Feature 3')\n",
    "\n",
    "plt.show()\n"
   ]
  }
 ],
 "metadata": {
  "kernelspec": {
   "display_name": "Python 3 (ipykernel)",
   "language": "python",
   "name": "python3"
  },
  "language_info": {
   "codemirror_mode": {
    "name": "ipython",
    "version": 3
   },
   "file_extension": ".py",
   "mimetype": "text/x-python",
   "name": "python",
   "nbconvert_exporter": "python",
   "pygments_lexer": "ipython3",
   "version": "3.9.12"
  }
 },
 "nbformat": 4,
 "nbformat_minor": 5
}
